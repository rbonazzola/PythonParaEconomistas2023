{
 "cells": [
  {
   "cell_type": "markdown",
   "id": "514c6d58",
   "metadata": {},
   "source": [
    "## Curso Python para Economistas\n",
    "### Trabajo Práctico Nº 6 (integrador)"
   ]
  },
  {
   "cell_type": "markdown",
   "id": "83f79c40",
   "metadata": {
    "tags": []
   },
   "source": [
    "### Fecha de entrega:\n",
    "Lunes 13/11 a las 23:59 hs\\*\n",
    "\n",
    "\\* *tienen una semana más que lo usual para resolver este TP*"
   ]
  },
  {
   "cell_type": "markdown",
   "id": "eb682638",
   "metadata": {},
   "source": [
    "### Modalidad de entrega y trabajo\n",
    "- Este TP es **individual**.\n",
    "- Un repositorio **privado** debe ser creado en GitHub para el TP, y dar acceso a los 5 profesores. Los nombres de usuarios son: `belenmichel`, `rbonazzola`, `Queeno11`, `agoszulli` y `pilarch`.\n",
    "- Cuando hayan hecho ese último commit, copien la URL para clonar su repositorio y péguenla en\n",
    "[este Google Sheet](https://docs.google.com/spreadsheets/d/160DBUCMAMUPtpeWtRl0SJYyYd2Miv-sYuFQZO3J3MS0/edit?usp=sharing), en la hoja del TP6. Al ser un repositorio privado, solo los colaboradores habilitados podrán clonarlo.\n",
    "- Al finalizar el trabajo práctico deben hacer un último commit y push en su repositorio de GitHub con el mensaje `\"Entrega final del TP6\"`. Antes de la fecha y hora de entrega pueden hacer cuantos cambios quieran en el repositorio, pero luego de la hora de corte no deben hacer más cambios. Si un commit con el mensaje anterior se realiza luego de la hora de entrega, se supondrá que la entrega tardía fue intencional y se utilizarán los días de gracia. La última versión en el repositorio es la que será evaluada. Para esto es importante que no completen el Google Sheet hasta que no hayan finalizado el TP, como tampoco hacer pushes posteriores a la entrega.\n",
    "- El estilo del código tendrá un peso en la nota de este trabajo (pequeño pero no nulo). Pueden utilizar esta [guía de estilo](https://recursospython.com/pep8es.pdf) como referencia."
   ]
  },
  {
   "cell_type": "markdown",
   "id": "a2c9c42c",
   "metadata": {},
   "source": [
    "## Objetivo"
   ]
  },
  {
   "cell_type": "markdown",
   "id": "6c2b2e2e",
   "metadata": {},
   "source": [
    "El objetivo de este trabajo es visualizar en un mapa los resultados electorales de las elecciones generales que tuvieron lugar el pasado 22 de octubre. \n",
    "\n",
    "Va a incluir los temas de la semana 6 (datos georreferenciados y mapas), pero al ser integrador también necesitarán revisar conceptos de semanas previas, en particular cómo realizar consultas a una base de datos SQLite, cómo operar con dataframe's de Pandas, cómo realizar gráficos usando distintas librerías, y trabajar con widgets interactivos."
   ]
  },
  {
   "cell_type": "markdown",
   "id": "d03c496a",
   "metadata": {},
   "source": [
    "## Datos"
   ]
  },
  {
   "cell_type": "markdown",
   "id": "0e194688-c889-4643-97ec-d9516eab99e3",
   "metadata": {},
   "source": [
    "En este trabajo vamos a utilizar dos conjuntos de datos, llamémoslos `elecciones` y `jurisdicciones`.\n",
    "\n",
    "\n",
    "`elecciones` se lo damos en un archivo en formato SQLite y contiene los resultados de las elecciones a nivel de mesa.\n",
    "\n",
    "`jurisdicciones` son dos archivos georreferenciados que **no** están incluidos en este repositorio: los tienen que bajar ustedes mismos (ver sección correspondiente abajo)."
   ]
  },
  {
   "cell_type": "markdown",
   "id": "820d256a",
   "metadata": {},
   "source": [
    "#### `elecciones`"
   ]
  },
  {
   "cell_type": "markdown",
   "id": "044fff49",
   "metadata": {},
   "source": [
    "Esta base de datos está en el archivo `resultados_electorales.sqlite` que pueden bajarse de [este link de Google Drive](https://drive.google.com/file/d/1wiNTv7uUuuSFZLOdaIPAB7UFkmLByTKC/view?usp=sharing) y está compuesta por distintas tablas:\n",
    "- La tabla principal con las cuentas de los votos por mesa para cada partido y cargo, llamada `resultados`: tiene como columnas de `mesa_id`, `seccion_id`, `circuito_id` , `agrupacion_id`, `cargo_id` (presidente/vice, diputados o senadores) y finalmente la cuenta de los votos, `cantidad`. Cada partido político puede tener varias listas, pero el partido político **no** aparece explícitamente en esta tabla (se puede, sin embargo, deducir a partir de la lista). El sufijo `_id` se debe a que los valores no son el nombre de la entidad que representan, sino códigos numéricos. Se hace así por razones de eficiencia en el almacenamiento y en la consulta: es más eficiente almacenar un entero que un string como `\"FRENTE DE IZQUIERDA Y DE TRABAJADORES - UNIDAD\"`.\n",
    "\n",
    "- Los códigos están vinculados al nombre en sí a través de otra tabla de la base de datos. Entonces, tenemos las tablas `distritos`, `secciones`, `partidos` y `cargos`.\n",
    "\n",
    "Es recomendable examinar la base de datos `resultados_electorales.sqlite`: mirar, en particular, los nombres de las tablas, y los nombres de las columnas en cada tabla. Esto lo pueden realizar utilizando un programa como [SQLiteBrowser](https://sqlitebrowser.org/dl/)."
   ]
  },
  {
   "cell_type": "markdown",
   "id": "a98cb612",
   "metadata": {},
   "source": [
    "#### `jurisdicciones`\n",
    "Estos son dos archivos con datos georreferenciados que contienen las coordenadas de las distintas jurisdicciones adonde queremos reportar los resultados. Estas jurisdicciones son \n",
    "\n",
    "- los **departamentos**, llamados \"secciones\" en las tablas anteriores. Este shapefile fue utilizado ya en la clase sincrónica 6, y había sido bajado del [sitio del IGN](https://www.ign.gob.ar/NuestrasActividades/InformacionGeoespacial/CapasSIG), <br>\n",
    "- los **circuitos electorales**, que deben bajar de [esta página](https://mapa2.electoral.gov.ar/descargas/). Hay distintos formatos disponibles, pueden usar el que prefieran. Pueden elegir cualquier provincia (en el inciso 2 les pedimos que filtren los datos para una provincia)."
   ]
  },
  {
   "cell_type": "markdown",
   "id": "1e41e7ba",
   "metadata": {},
   "source": [
    "## Consignas"
   ]
  },
  {
   "cell_type": "markdown",
   "id": "083c757d",
   "metadata": {},
   "source": [
    "1. Utilizando el paquete `sqlite3` de Python, realizar una consulta (_query_) del archivo `resultados_electorales.sqlite`, cuyo resultado sea la unión de la tabla de `resultados` con las tablas `agrupaciones` por las columnas correspondientes; para de esa manera tener en una misma tabla la correspondencia con el partido político. Guardar el resultado de esta _query_ en una variable. Examinar la estructura del resultado. ¿Qué tipo de dato es? Convertir esta estructura en un dataframe de Pandas (si no lo es ya).\n",
    "<br> _Aclaración:_ notar que el resultado de la consulta de SQL ya debe darnos como resultado la unión de las tablas de resultados y agrupaciones. A pesar de que podrían se unir las tablas en Pandas (usando `pd.merge`) y daría el mismo resultado, no daremos la puntuación máxima si lo hacen de este modo. (Si bien esto puede parecer un capricho, hay muchos casos en que es conveniente delegar en un servidor remoto de base de datos el procesamiento de datos voluminosos y sólo realizar el procesamiento posterior localmente (en Python), que típicamente involucraría operaciones más sofisticadas pero que no requieren tanta memoria o capacidad de procesamiento.)"
   ]
  },
  {
   "cell_type": "code",
   "execution_count": null,
   "id": "3630a694-d8aa-4654-845f-c003af6ba29e",
   "metadata": {},
   "outputs": [],
   "source": []
  },
  {
   "cell_type": "code",
   "execution_count": null,
   "id": "6bc7bd19-eb1b-45db-abaf-659cc6809def",
   "metadata": {},
   "outputs": [],
   "source": []
  },
  {
   "cell_type": "code",
   "execution_count": null,
   "id": "140ba686-073d-498e-bb3c-54c6f9d2b9ff",
   "metadata": {},
   "outputs": [],
   "source": []
  },
  {
   "cell_type": "code",
   "execution_count": null,
   "id": "75791f57-0065-4917-b749-fbb3bac22e3a",
   "metadata": {},
   "outputs": [],
   "source": []
  },
  {
   "cell_type": "markdown",
   "id": "5e08e446-e87a-4388-ac8b-e7d70250094c",
   "metadata": {},
   "source": [
    "2. En Pandas, unir el dataframe que obtuvieron con las tablas de `distritos`, `secciones` y `cargos` del archivo. Luego, eliminar las columnas que representan los identificadores originales para estas entidades, así como para las agrupaciones políticas (las que terminan en `\"_id\"`). Finalmente, elegir una provincia y conservar los resultados sólo para esa provincia. Debe ser la misma para la que se bajaron el shapefile de circuitos electorales."
   ]
  },
  {
   "cell_type": "code",
   "execution_count": null,
   "id": "8a25ad98-ab5f-4cc5-874e-f0992a1170df",
   "metadata": {},
   "outputs": [],
   "source": []
  },
  {
   "cell_type": "code",
   "execution_count": null,
   "id": "7f939d16-661e-4fae-9193-9259542b65a6",
   "metadata": {},
   "outputs": [],
   "source": []
  },
  {
   "cell_type": "code",
   "execution_count": null,
   "id": "d4b5fe2e-4cdd-41e6-8770-78a327bf692b",
   "metadata": {},
   "outputs": [],
   "source": []
  },
  {
   "cell_type": "code",
   "execution_count": null,
   "id": "3364ff93-6768-4dd2-8b66-34a0b805f496",
   "metadata": {},
   "outputs": [],
   "source": []
  },
  {
   "cell_type": "markdown",
   "id": "8835a6ff",
   "metadata": {},
   "source": [
    "3. En el dataframe de arriba tenemos los resultados para presidente/vice, diputados y senadores en filas distintas (son distintas _observaciones_ según la nomenclatura usual). Reformatear el dataframe de manera que contenga tres columnas nuevas, llamadas `presidente`, `diputados` y `senadores`, donde en cada una deben estar los resultados de cada categoría para cada mesa."
   ]
  },
  {
   "cell_type": "code",
   "execution_count": null,
   "id": "57ec5ddd",
   "metadata": {},
   "outputs": [],
   "source": []
  },
  {
   "cell_type": "code",
   "execution_count": null,
   "id": "828b2a41",
   "metadata": {},
   "outputs": [],
   "source": []
  },
  {
   "cell_type": "code",
   "execution_count": null,
   "id": "ee3902f2-c6bb-4495-a3da-ea30d7b05ee7",
   "metadata": {},
   "outputs": [],
   "source": []
  },
  {
   "cell_type": "code",
   "execution_count": null,
   "id": "4b6fd224",
   "metadata": {},
   "outputs": [],
   "source": []
  },
  {
   "cell_type": "markdown",
   "id": "0034835e",
   "metadata": {},
   "source": [
    "4. Construir dos dataframes, `partidos_circ_df` y `partidos_dpto_df`: en uno tendremos la cantidad de votos para cada partido político por circuito electoral; y el otro será equivalente, pero para cada departamento. (Si eligieron la provincia de Buenos Aires, serían partidos en lugar de departamentos, pero pueden usar la misma nomenclatura.)"
   ]
  },
  {
   "cell_type": "markdown",
   "id": "fe12907f",
   "metadata": {},
   "source": []
  },
  {
   "cell_type": "code",
   "execution_count": null,
   "id": "153e96f1",
   "metadata": {},
   "outputs": [],
   "source": []
  },
  {
   "cell_type": "code",
   "execution_count": null,
   "id": "e93cd0e3",
   "metadata": {},
   "outputs": [],
   "source": []
  },
  {
   "cell_type": "code",
   "execution_count": null,
   "id": "ac17b106",
   "metadata": {},
   "outputs": [],
   "source": []
  },
  {
   "cell_type": "markdown",
   "id": "330c12bb",
   "metadata": {},
   "source": [
    "5. Usando Geopandas, cargar los shapefiles de circuitos electorales y departamentos en sendos geodataframes. Unir (`merge`) el primero con `partidos_circ_df`; y el segundo con `partidos_dpto_df`. Los resultados deberían ser dos geodataframes (pueden reemplazar el sufijo `df` por `gdf` en el nombre).\n",
    "Para hacer la unión, deben decidir qué columnas utilizar como criterio de unión. Deben examinar los valores de las mismas y prestar particular atención a si es necesario realizar alguna transformación previa en alguna tabla."
   ]
  },
  {
   "cell_type": "code",
   "execution_count": null,
   "id": "320ddfde",
   "metadata": {},
   "outputs": [],
   "source": []
  },
  {
   "cell_type": "code",
   "execution_count": null,
   "id": "5e4ccf6a",
   "metadata": {},
   "outputs": [],
   "source": []
  },
  {
   "cell_type": "code",
   "execution_count": null,
   "id": "c152c471-e0f9-422a-8117-5209e3dab0b7",
   "metadata": {},
   "outputs": [],
   "source": []
  },
  {
   "cell_type": "code",
   "execution_count": null,
   "id": "4e1062d9",
   "metadata": {},
   "outputs": [],
   "source": []
  },
  {
   "cell_type": "markdown",
   "id": "541b0b27",
   "metadata": {},
   "source": [
    "6. Crear un mapa interactivo donde se puedan visualizar los resultados electorales. Se utilizarán dos widgets, que inducirán el siguiente comportamiento:\n",
    "- Debe haber un widget que permita elegir la jurisdicción a mostrar: esta jurisdicción puede ser, o bien toda la provincia, o bien un departamento de la provincia (es decir que, si $N$ es el número de departamentos, el widget debe mostrar $N+1$ opciones). Si el usuario elige toda la provincia, se debe mostrar un mapa de la misma dividido en departamentos. Si se elige un departamento, se debe mostrar un mapa del departamento elegido, dividido en circuitos electorales. \n",
    "- Otro widget determina si se muestran los resultados para presidente/vice, para senadores o para diputados."
   ]
  },
  {
   "cell_type": "code",
   "execution_count": null,
   "id": "5e79a090",
   "metadata": {},
   "outputs": [],
   "source": []
  },
  {
   "cell_type": "code",
   "execution_count": null,
   "id": "8051af81",
   "metadata": {},
   "outputs": [],
   "source": []
  },
  {
   "cell_type": "code",
   "execution_count": null,
   "id": "a527c091",
   "metadata": {},
   "outputs": [],
   "source": []
  },
  {
   "cell_type": "code",
   "execution_count": null,
   "id": "ab6987d0",
   "metadata": {},
   "outputs": [],
   "source": []
  },
  {
   "cell_type": "markdown",
   "id": "f9962de4",
   "metadata": {},
   "source": [
    "7. Ahora vamos a examinar los resultados para presidente/vice para las tres fuerzas mayoritarias: Unión por la Patria (UPP), La Libertad Avanza (LLA) y Juntos por el Cambio (JPC). Existe una forma de representar ternas de valores que suman 1: los [gráficos ternarios](https://es.wikipedia.org/wiki/Diagrama_ternario). Son gráficos con forma de triángulo equilátero, donde los vértices corresponden a que uno de los valores de la terna es igual a 1. <br><br>\n",
    "\n",
    "En este ejercicio, vamos a generar plots ternarios que representen la fracción de votos para cada una de las tres agrupaciones anteriores. Crear dos widgets de selección: uno que permita elegir un departamento de la provincia, y el otro que determine si se muestran los resultados a nivel de mesa o a nivel de circuito electoral. Usando estos parámetros, mostrar de manera reactiva un gráfico ternario. _Se evaluará la presentación del gráfico_. <br><br>\n",
    "\n",
    "Para generar el gráfico ternario pueden utilizar la librería que deseen. Una opción es la librería `plotly`, que no vimos. Si usan `plotly`, [esta](https://plotly.com/python/ternary-plots/) es la documentación que pueden usar de referencia. Otra opción es una extensión de `matplotlib` llamada [mpltern](https://mpltern.readthedocs.io/en/latest/installation.html). En ambos casos deberían instalar las librerías.\n",
    "\n",
    "El plot ternario debe ser tal que:\n",
    "- Contenga puntos (scatter plot) donde los valores sean las fracciones de cada una de los tres partidos.\n",
    "- Un punto represente los resultados para una mesa electoral o para un circuito electoral, dependiendo del valor del segundo widget. \n",
    "- El tamaño del punto esté dado por la cantidad total de electores que votaron a los tres partidos en esa mesa o ese circuito.\n",
    "- El color del punto esté determinado por qué partido sacó mayoría: vamos a usar azul para UPP, amarillo para JPC y violeta para LLA.\n",
    "\n",
    "_Nota_: los gráficos ternarios suponen que los valores suman 1 (o una constante), por lo tanto los valores se deben normalizar a la cantidad de votos que sacaron las tres fuerzas consideradas (no al total de votos de la mesa). "
   ]
  },
  {
   "cell_type": "code",
   "execution_count": null,
   "id": "0336a3e0",
   "metadata": {},
   "outputs": [],
   "source": []
  },
  {
   "cell_type": "code",
   "execution_count": null,
   "id": "a6e3515d",
   "metadata": {},
   "outputs": [],
   "source": []
  },
  {
   "cell_type": "code",
   "execution_count": null,
   "id": "8247bfaa-65e2-4c2f-ba53-e89cd08f323c",
   "metadata": {},
   "outputs": [],
   "source": []
  },
  {
   "cell_type": "code",
   "execution_count": null,
   "id": "da8edf3f",
   "metadata": {},
   "outputs": [],
   "source": []
  }
 ],
 "metadata": {
  "kernelspec": {
   "display_name": "Python 3 (ipykernel)",
   "language": "python",
   "name": "python3"
  },
  "language_info": {
   "codemirror_mode": {
    "name": "ipython",
    "version": 3
   },
   "file_extension": ".py",
   "mimetype": "text/x-python",
   "name": "python",
   "nbconvert_exporter": "python",
   "pygments_lexer": "ipython3",
   "version": "3.9.12"
  }
 },
 "nbformat": 4,
 "nbformat_minor": 5
}
